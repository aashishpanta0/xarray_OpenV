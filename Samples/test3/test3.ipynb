{
 "cells": [
  {
   "cell_type": "code",
   "execution_count": 29,
   "id": "cbdab1f9",
   "metadata": {},
   "outputs": [],
   "source": [
    "import xarray as xr\n",
    "import numpy as np\n",
    "import pandas as pd\n",
    "from OpenVisus import *\n",
    "from backend_v2 import *"
   ]
  },
  {
   "cell_type": "code",
   "execution_count": 68,
   "id": "9b120c7a",
   "metadata": {},
   "outputs": [],
   "source": [
    "# data = xr.open_dataset('adaptor.mars.internal-1649414946.8898907-5323-20-d2ffcb96-4834-405b-af4d-1fea50c5d810.nc')\n",
    "# data= data.to_array()\n",
    "# data[0].values\n",
    "# data[0].dims\n"
   ]
  },
  {
   "cell_type": "code",
   "execution_count": 69,
   "id": "372c9336",
   "metadata": {},
   "outputs": [],
   "source": [
    "# filename='dummy.idx'\n",
    "# shutil.rmtree(os.path.dirname(filename), ignore_errors=True)\n",
    "# db=CreateIdx(url=filename, dim=len(data[0].dims), data=data[0][0].values,fields=[Field('tp','uint8[3]')])\n",
    "# db"
   ]
  },
  {
   "cell_type": "code",
   "execution_count": 70,
   "id": "47c8801b",
   "metadata": {},
   "outputs": [],
   "source": [
    "# %%time\n",
    "# ds = xr.open_dataset(\"dummy.idx\",engine=OpenVisusBackendEntrypoint,coords=data[0][0].coords,attrs=data[0][0].attrs,dims=data[0][0].dims)\n",
    "\n",
    "# d1=ds.isel(latitude=slice(0,180),longitude=slice(0,360))\n",
    "# d1"
   ]
  },
  {
   "cell_type": "markdown",
   "id": "cf27f1db",
   "metadata": {},
   "source": [
    "###   Case 1: The code below doesn't work since the shape of 'data' is (1,10,10,3)"
   ]
  },
  {
   "cell_type": "code",
   "execution_count": 38,
   "id": "836c487c",
   "metadata": {
    "scrolled": true
   },
   "outputs": [
    {
     "ename": "SystemError",
     "evalue": "Error in swig director code what Visus throwing exception where(/Users/runner/work/OpenVisus/OpenVisus/Libs/Db/src/IdxFile.cpp:509) what(invalid version) where /Users/runner/work/OpenVisus/OpenVisus/build/Release/VisusDbPyPYTHON_wrap.cxx : 27428 \n <no error?>",
     "output_type": "error",
     "traceback": [
      "\u001b[0;31m---------------------------------------------------------------------------\u001b[0m",
      "\u001b[0;31mSystemError\u001b[0m                               Traceback (most recent call last)",
      "\u001b[0;32m/var/folders/js/z1b9rlcx6kjbl517dzsxxy540000gn/T/ipykernel_12475/3810754361.py\u001b[0m in \u001b[0;36m<module>\u001b[0;34m\u001b[0m\n\u001b[1;32m      1\u001b[0m \u001b[0mdata\u001b[0m\u001b[0;34m=\u001b[0m\u001b[0mnumpy\u001b[0m\u001b[0;34m.\u001b[0m\u001b[0mzeros\u001b[0m\u001b[0;34m(\u001b[0m\u001b[0;34m(\u001b[0m\u001b[0;36m1\u001b[0m\u001b[0;34m,\u001b[0m\u001b[0;36m10\u001b[0m\u001b[0;34m,\u001b[0m\u001b[0;36m10\u001b[0m\u001b[0;34m,\u001b[0m\u001b[0;36m3\u001b[0m\u001b[0;34m)\u001b[0m\u001b[0;34m,\u001b[0m\u001b[0mdtype\u001b[0m\u001b[0;34m=\u001b[0m\u001b[0mnumpy\u001b[0m\u001b[0;34m.\u001b[0m\u001b[0mfloat32\u001b[0m\u001b[0;34m)\u001b[0m\u001b[0;34m\u001b[0m\u001b[0;34m\u001b[0m\u001b[0m\n\u001b[1;32m      2\u001b[0m \u001b[0mshutil\u001b[0m\u001b[0;34m.\u001b[0m\u001b[0mrmtree\u001b[0m\u001b[0;34m(\u001b[0m\u001b[0;34m'tmp/test_convert'\u001b[0m\u001b[0;34m,\u001b[0m \u001b[0mignore_errors\u001b[0m\u001b[0;34m=\u001b[0m\u001b[0;32mTrue\u001b[0m\u001b[0;34m)\u001b[0m\u001b[0;34m\u001b[0m\u001b[0;34m\u001b[0m\u001b[0m\n\u001b[0;32m----> 3\u001b[0;31m \u001b[0mdb\u001b[0m\u001b[0;34m=\u001b[0m\u001b[0mCreateIdx\u001b[0m\u001b[0;34m(\u001b[0m\u001b[0murl\u001b[0m\u001b[0;34m=\u001b[0m\u001b[0;34m'tmp/test_convert/visus.idx'\u001b[0m\u001b[0;34m,\u001b[0m \u001b[0mdim\u001b[0m\u001b[0;34m=\u001b[0m\u001b[0;36m3\u001b[0m\u001b[0;34m,\u001b[0m \u001b[0mdata\u001b[0m\u001b[0;34m=\u001b[0m\u001b[0mdata\u001b[0m\u001b[0;34m)\u001b[0m\u001b[0;34m\u001b[0m\u001b[0;34m\u001b[0m\u001b[0m\n\u001b[0m\u001b[1;32m      4\u001b[0m \u001b[0mdb\u001b[0m\u001b[0;34m\u001b[0m\u001b[0;34m\u001b[0m\u001b[0m\n",
      "\u001b[0;32m~/opt/anaconda3/lib/python3.8/site-packages/OpenVisus/dataset.py\u001b[0m in \u001b[0;36mCreateIdx\u001b[0;34m(**args)\u001b[0m\n\u001b[1;32m     88\u001b[0m \u001b[0;34m\u001b[0m\u001b[0m\n\u001b[1;32m     89\u001b[0m         \u001b[0midx\u001b[0m\u001b[0;34m.\u001b[0m\u001b[0msave\u001b[0m\u001b[0;34m(\u001b[0m\u001b[0murl\u001b[0m\u001b[0;34m)\u001b[0m\u001b[0;34m\u001b[0m\u001b[0;34m\u001b[0m\u001b[0m\n\u001b[0;32m---> 90\u001b[0;31m         \u001b[0mdb\u001b[0m\u001b[0;34m=\u001b[0m\u001b[0mLoadDataset\u001b[0m\u001b[0;34m(\u001b[0m\u001b[0murl\u001b[0m\u001b[0;34m)\u001b[0m\u001b[0;34m\u001b[0m\u001b[0;34m\u001b[0m\u001b[0m\n\u001b[0m\u001b[1;32m     91\u001b[0m \u001b[0;34m\u001b[0m\u001b[0m\n\u001b[1;32m     92\u001b[0m         \u001b[0;32mif\u001b[0m \u001b[0mbuffer\u001b[0m\u001b[0;34m:\u001b[0m\u001b[0;34m\u001b[0m\u001b[0;34m\u001b[0m\u001b[0m\n",
      "\u001b[0;32m~/opt/anaconda3/lib/python3.8/site-packages/OpenVisus/VisusDbPy.py\u001b[0m in \u001b[0;36mLoadDataset\u001b[0;34m(url)\u001b[0m\n\u001b[1;32m    157\u001b[0m \u001b[0;32mdef\u001b[0m \u001b[0mLoadDataset\u001b[0m\u001b[0;34m(\u001b[0m\u001b[0murl\u001b[0m\u001b[0;34m)\u001b[0m\u001b[0;34m:\u001b[0m\u001b[0;34m\u001b[0m\u001b[0;34m\u001b[0m\u001b[0m\n\u001b[1;32m    158\u001b[0m         \u001b[0;32mfrom\u001b[0m \u001b[0mOpenVisus\u001b[0m\u001b[0;34m.\u001b[0m\u001b[0mdataset\u001b[0m \u001b[0;32mimport\u001b[0m \u001b[0mPyDataset\u001b[0m\u001b[0;34m\u001b[0m\u001b[0;34m\u001b[0m\u001b[0m\n\u001b[0;32m--> 159\u001b[0;31m         \u001b[0;32mreturn\u001b[0m \u001b[0mPyDataset\u001b[0m\u001b[0;34m(\u001b[0m\u001b[0mLoadDatasetCpp\u001b[0m\u001b[0;34m(\u001b[0m\u001b[0murl\u001b[0m\u001b[0;34m)\u001b[0m\u001b[0;34m)\u001b[0m\u001b[0;34m\u001b[0m\u001b[0;34m\u001b[0m\u001b[0m\n\u001b[0m\u001b[1;32m    160\u001b[0m \u001b[0;34m\u001b[0m\u001b[0m\n\u001b[1;32m    161\u001b[0m \u001b[0;32mdef\u001b[0m \u001b[0mLoadIdxDataset\u001b[0m\u001b[0;34m(\u001b[0m\u001b[0murl\u001b[0m\u001b[0;34m)\u001b[0m\u001b[0;34m:\u001b[0m\u001b[0;34m\u001b[0m\u001b[0;34m\u001b[0m\u001b[0m\n",
      "\u001b[0;32m~/opt/anaconda3/lib/python3.8/site-packages/OpenVisus/VisusDbPy.py\u001b[0m in \u001b[0;36mLoadDatasetCpp\u001b[0;34m(url)\u001b[0m\n\u001b[1;32m   1070\u001b[0m \u001b[0;34m\u001b[0m\u001b[0m\n\u001b[1;32m   1071\u001b[0m \u001b[0;32mdef\u001b[0m \u001b[0mLoadDatasetCpp\u001b[0m\u001b[0;34m(\u001b[0m\u001b[0murl\u001b[0m\u001b[0;34m)\u001b[0m\u001b[0;34m:\u001b[0m\u001b[0;34m\u001b[0m\u001b[0;34m\u001b[0m\u001b[0m\n\u001b[0;32m-> 1072\u001b[0;31m     \u001b[0;32mreturn\u001b[0m \u001b[0m_VisusDbPy\u001b[0m\u001b[0;34m.\u001b[0m\u001b[0mLoadDatasetCpp\u001b[0m\u001b[0;34m(\u001b[0m\u001b[0murl\u001b[0m\u001b[0;34m)\u001b[0m\u001b[0;34m\u001b[0m\u001b[0;34m\u001b[0m\u001b[0m\n\u001b[0m\u001b[1;32m   1073\u001b[0m \u001b[0;32mclass\u001b[0m \u001b[0mModVisus\u001b[0m\u001b[0;34m(\u001b[0m\u001b[0mVisusKernelPy\u001b[0m\u001b[0;34m.\u001b[0m\u001b[0mNetServerModule\u001b[0m\u001b[0;34m)\u001b[0m\u001b[0;34m:\u001b[0m\u001b[0;34m\u001b[0m\u001b[0;34m\u001b[0m\u001b[0m\n\u001b[1;32m   1074\u001b[0m     \u001b[0mthisown\u001b[0m \u001b[0;34m=\u001b[0m \u001b[0mproperty\u001b[0m\u001b[0;34m(\u001b[0m\u001b[0;32mlambda\u001b[0m \u001b[0mx\u001b[0m\u001b[0;34m:\u001b[0m \u001b[0mx\u001b[0m\u001b[0;34m.\u001b[0m\u001b[0mthis\u001b[0m\u001b[0;34m.\u001b[0m\u001b[0mown\u001b[0m\u001b[0;34m(\u001b[0m\u001b[0;34m)\u001b[0m\u001b[0;34m,\u001b[0m \u001b[0;32mlambda\u001b[0m \u001b[0mx\u001b[0m\u001b[0;34m,\u001b[0m \u001b[0mv\u001b[0m\u001b[0;34m:\u001b[0m \u001b[0mx\u001b[0m\u001b[0;34m.\u001b[0m\u001b[0mthis\u001b[0m\u001b[0;34m.\u001b[0m\u001b[0mown\u001b[0m\u001b[0;34m(\u001b[0m\u001b[0mv\u001b[0m\u001b[0;34m)\u001b[0m\u001b[0;34m,\u001b[0m \u001b[0mdoc\u001b[0m\u001b[0;34m=\u001b[0m\u001b[0;34m\"The membership flag\"\u001b[0m\u001b[0;34m)\u001b[0m\u001b[0;34m\u001b[0m\u001b[0;34m\u001b[0m\u001b[0m\n",
      "\u001b[0;31mSystemError\u001b[0m: Error in swig director code what Visus throwing exception where(/Users/runner/work/OpenVisus/OpenVisus/Libs/Db/src/IdxFile.cpp:509) what(invalid version) where /Users/runner/work/OpenVisus/OpenVisus/build/Release/VisusDbPyPYTHON_wrap.cxx : 27428 \n <no error?>"
     ]
    }
   ],
   "source": [
    "data=numpy.zeros((1,10,10,3),dtype=numpy.float32) \n",
    "shutil.rmtree('tmp/test_convert', ignore_errors=True)\n",
    "db=CreateIdx(url='tmp/test_convert/visus.idx', dim=3, data=data)\n",
    "db"
   ]
  },
  {
   "cell_type": "markdown",
   "id": "e8c267a6",
   "metadata": {},
   "source": [
    "###  Case 2: The code below works because the shape of 'data' is (10,10,10,3)"
   ]
  },
  {
   "cell_type": "code",
   "execution_count": 35,
   "id": "416e88f5",
   "metadata": {},
   "outputs": [
    {
     "data": {
      "text/plain": [
       "<OpenVisus.dataset.PyDataset at 0x7f95a0026640>"
      ]
     },
     "execution_count": 35,
     "metadata": {},
     "output_type": "execute_result"
    }
   ],
   "source": [
    "data=numpy.zeros((10,10,10,3),dtype=numpy.float32) # depth,height,width,nchannels\n",
    "shutil.rmtree('tmp/test_convert', ignore_errors=True)\n",
    "db=CreateIdx(url='tmp/test_convert/visus.idx', dim=3, data=data)\n",
    "db"
   ]
  },
  {
   "cell_type": "markdown",
   "id": "bf0ea6ea",
   "metadata": {},
   "source": [
    "One way to pass the data in the first case is by passing data = data[0]. But it doesn't look right..."
   ]
  },
  {
   "cell_type": "code",
   "execution_count": null,
   "id": "e6ce0131",
   "metadata": {},
   "outputs": [],
   "source": []
  }
 ],
 "metadata": {
  "kernelspec": {
   "display_name": "Python 3 (ipykernel)",
   "language": "python",
   "name": "python3"
  },
  "language_info": {
   "codemirror_mode": {
    "name": "ipython",
    "version": 3
   },
   "file_extension": ".py",
   "mimetype": "text/x-python",
   "name": "python",
   "nbconvert_exporter": "python",
   "pygments_lexer": "ipython3",
   "version": "3.8.12"
  }
 },
 "nbformat": 4,
 "nbformat_minor": 5
}
