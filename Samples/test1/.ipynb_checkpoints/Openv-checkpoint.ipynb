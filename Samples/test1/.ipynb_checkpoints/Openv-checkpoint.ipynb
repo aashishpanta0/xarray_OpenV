{
 "cells": [
  {
   "cell_type": "code",
   "execution_count": 1,
   "id": "c0cf7193",
   "metadata": {},
   "outputs": [
    {
     "name": "stdout",
     "output_type": "stream",
     "text": [
      "Using pip 22.0.4 from /Users/aashishpanta/opt/anaconda3/lib/python3.8/site-packages/pip (python 3.8)\n",
      "Requirement already satisfied: cmocean in /Users/aashishpanta/opt/anaconda3/lib/python3.8/site-packages (2.0)\n",
      "Requirement already satisfied: cartopy in /Users/aashishpanta/opt/anaconda3/lib/python3.8/site-packages (0.20.2)\n",
      "Requirement already satisfied: numpy>=1.18 in /Users/aashishpanta/opt/anaconda3/lib/python3.8/site-packages (from cartopy) (1.20.0)\n",
      "Requirement already satisfied: matplotlib>=3.1 in /Users/aashishpanta/opt/anaconda3/lib/python3.8/site-packages (from cartopy) (3.5.1)\n",
      "Requirement already satisfied: pyproj>=3.0.0 in /Users/aashishpanta/opt/anaconda3/lib/python3.8/site-packages (from cartopy) (3.3.0)\n",
      "Requirement already satisfied: pyshp>=2.1 in /Users/aashishpanta/opt/anaconda3/lib/python3.8/site-packages (from cartopy) (2.2.0)\n",
      "Requirement already satisfied: shapely>=1.6.4 in /Users/aashishpanta/opt/anaconda3/lib/python3.8/site-packages (from cartopy) (1.8.1.post1)\n",
      "Requirement already satisfied: kiwisolver>=1.0.1 in /Users/aashishpanta/opt/anaconda3/lib/python3.8/site-packages (from matplotlib>=3.1->cartopy) (1.3.2)\n",
      "Requirement already satisfied: pyparsing>=2.2.1 in /Users/aashishpanta/opt/anaconda3/lib/python3.8/site-packages (from matplotlib>=3.1->cartopy) (3.0.4)\n",
      "Requirement already satisfied: pillow>=6.2.0 in /Users/aashishpanta/opt/anaconda3/lib/python3.8/site-packages (from matplotlib>=3.1->cartopy) (8.4.0)\n",
      "Requirement already satisfied: fonttools>=4.22.0 in /Users/aashishpanta/opt/anaconda3/lib/python3.8/site-packages (from matplotlib>=3.1->cartopy) (4.25.0)\n",
      "Requirement already satisfied: cycler>=0.10 in /Users/aashishpanta/opt/anaconda3/lib/python3.8/site-packages (from matplotlib>=3.1->cartopy) (0.11.0)\n",
      "Requirement already satisfied: packaging>=20.0 in /Users/aashishpanta/opt/anaconda3/lib/python3.8/site-packages (from matplotlib>=3.1->cartopy) (21.3)\n",
      "Requirement already satisfied: python-dateutil>=2.7 in /Users/aashishpanta/opt/anaconda3/lib/python3.8/site-packages (from matplotlib>=3.1->cartopy) (2.8.2)\n",
      "Requirement already satisfied: certifi in /Users/aashishpanta/opt/anaconda3/lib/python3.8/site-packages (from pyproj>=3.0.0->cartopy) (2021.10.8)\n",
      "Requirement already satisfied: six>=1.5 in /Users/aashishpanta/opt/anaconda3/lib/python3.8/site-packages (from python-dateutil>=2.7->matplotlib>=3.1->cartopy) (1.15.0)\n"
     ]
    }
   ],
   "source": [
    "import sys\n",
    "!{sys.executable} -m pip install -v cmocean cartopy \n",
    "\n"
   ]
  },
  {
   "cell_type": "code",
   "execution_count": 2,
   "id": "4829c431",
   "metadata": {},
   "outputs": [
    {
     "name": "stderr",
     "output_type": "stream",
     "text": [
      "/Users/aashishpanta/opt/anaconda3/lib/python3.8/site-packages/xarray/backends/cfgrib_.py:27: UserWarning: Failed to load cfgrib - most likely there is a problem accessing the ecCodes library. Try `import cfgrib` to get the full error message\n",
      "  warnings.warn(\n"
     ]
    },
    {
     "name": "stdout",
     "output_type": "stream",
     "text": [
      "Starting OpenVisus /Users/aashishpanta/opt/anaconda3/lib/python3.8/site-packages/OpenVisus/__init__.py 3.8.12 (default, Oct 12 2021, 06:23:56) \n",
      "[Clang 10.0.0 ] sys.version_info(major=3, minor=8, micro=12, releaselevel='final', serial=0) ...\n"
     ]
    }
   ],
   "source": [
    "import xarray as xr\n",
    "import numpy as np\n",
    "import pandas as pd\n",
    "import cmocean\n",
    "import matplotlib.pyplot as plt\n",
    "from OpenVisus import *\n",
    "from backend_v2 import *"
   ]
  },
  {
   "cell_type": "code",
   "execution_count": 12,
   "id": "ead80253",
   "metadata": {},
   "outputs": [
    {
     "name": "stdout",
     "output_type": "stream",
     "text": [
      "lat\n",
      "lon\n"
     ]
    }
   ],
   "source": [
    "ds = xr.open_dataset('20190426120000-REMSS-L4_GHRSST-SSTfnd-MW_OI-GLOB-v02.0-fv05.0.nc')\n",
    "ds=ds.drop('time')\n",
    "# a=ds['analysed_sst'][0].values\n",
    "# ds.dims\n",
    "for i in ds.coords:\n",
    "    print(i)"
   ]
  },
  {
   "cell_type": "code",
   "execution_count": 4,
   "id": "d380c87e",
   "metadata": {},
   "outputs": [],
   "source": [
    "filename='dummy.idx'\n",
    "field=[Field('analysed_sst', 'float32'),\n",
    "      Field('analysis_error', 'float32'),\n",
    "      Field('sea_ice_fraction', 'float32'),\n",
    "      Field('mask', 'float32')]"
   ]
  },
  {
   "cell_type": "code",
   "execution_count": 5,
   "id": "c769cb0d",
   "metadata": {},
   "outputs": [
    {
     "name": "stdout",
     "output_type": "stream",
     "text": [
      "<dataset url=\"dummy.idx\" typename=\"IdxDataset\">\n",
      "\t<idxfile>\n",
      "\t\t<version value=\"6\" />\n",
      "\t\t<bitmask value=\"V001010101010101010101\" />\n",
      "\t\t<box value=\"0 1440 0 720\" />\n",
      "\t\t<bitsperblock value=\"16\" />\n",
      "\t\t<blocksperfile value=\"32\" />\n",
      "\t\t<block_interleaving value=\"0\" />\n",
      "\t\t<filename_template value=\"./dummy/%04x.bin\" />\n",
      "\t\t<missing_blocks value=\"False\" />\n",
      "\t\t<time_template value=\"\" />\n",
      "\t\t<field name=\"analysed_sst\" description=\"\" index=\"\" default_compression=\"\" default_layout=\"\" default_value=\"0\" filter=\"\" dtype=\"float32\" />\n",
      "\t\t<field name=\"analysis_error\" description=\"\" index=\"\" default_compression=\"\" default_layout=\"\" default_value=\"0\" filter=\"\" dtype=\"float32\" />\n",
      "\t\t<field name=\"sea_ice_fraction\" description=\"\" index=\"\" default_compression=\"\" default_layout=\"\" default_value=\"0\" filter=\"\" dtype=\"float32\" />\n",
      "\t\t<field name=\"mask\" description=\"\" index=\"\" default_compression=\"\" default_layout=\"\" default_value=\"0\" filter=\"\" dtype=\"float32\" />\n",
      "\t\t<timestep when=\"0\" />\n",
      "\t</idxfile>\n",
      "</dataset>\n"
     ]
    }
   ],
   "source": [
    "db=CreateIdx(url=filename,dims=[1440,720],fields=field)\n",
    "print(db.getDatasetBody().toString())"
   ]
  },
  {
   "cell_type": "code",
   "execution_count": 6,
   "id": "322db5d3",
   "metadata": {},
   "outputs": [],
   "source": [
    "# db.getFields()\n",
    "timesteps=[int(it) for it in db.getTimesteps().asVector()]\n",
    " \n",
    "for f in db.getFields():\n",
    "    db.write(ds[f][0].values, field=f)\n",
    "        "
   ]
  },
  {
   "cell_type": "code",
   "execution_count": 7,
   "id": "44919f05",
   "metadata": {},
   "outputs": [
    {
     "ename": "ValueError",
     "evalue": "dimensions ('time', 'lat', 'lon', 'time', 'resolution') must have the same length as the number of data dimensions, ndim=4",
     "output_type": "error",
     "traceback": [
      "\u001b[0;31m---------------------------------------------------------------------------\u001b[0m",
      "\u001b[0;31mValueError\u001b[0m                                Traceback (most recent call last)",
      "\u001b[0;32m/var/folders/js/z1b9rlcx6kjbl517dzsxxy540000gn/T/ipykernel_22651/3220518769.py\u001b[0m in \u001b[0;36m<module>\u001b[0;34m\u001b[0m\n\u001b[0;32m----> 1\u001b[0;31m \u001b[0mds\u001b[0m \u001b[0;34m=\u001b[0m \u001b[0mxr\u001b[0m\u001b[0;34m.\u001b[0m\u001b[0mopen_dataset\u001b[0m\u001b[0;34m(\u001b[0m\u001b[0;34m\"dummy.idx\"\u001b[0m\u001b[0;34m,\u001b[0m\u001b[0mengine\u001b[0m\u001b[0;34m=\u001b[0m\u001b[0mOpenVisusBackendEntrypoint\u001b[0m\u001b[0;34m,\u001b[0m\u001b[0mdims\u001b[0m\u001b[0;34m=\u001b[0m\u001b[0mds\u001b[0m\u001b[0;34m.\u001b[0m\u001b[0mdims\u001b[0m\u001b[0;34m,\u001b[0m\u001b[0mcoords\u001b[0m\u001b[0;34m=\u001b[0m\u001b[0mds\u001b[0m\u001b[0;34m.\u001b[0m\u001b[0mcoords\u001b[0m \u001b[0;34m)\u001b[0m\u001b[0;34m\u001b[0m\u001b[0;34m\u001b[0m\u001b[0m\n\u001b[0m\u001b[1;32m      2\u001b[0m \u001b[0mds\u001b[0m\u001b[0;34m[\u001b[0m\u001b[0;34m'analysed_sst'\u001b[0m\u001b[0;34m]\u001b[0m\u001b[0;34m\u001b[0m\u001b[0;34m\u001b[0m\u001b[0m\n\u001b[1;32m      3\u001b[0m \u001b[0;31m# ds['x']=ds.lon\u001b[0m\u001b[0;34m\u001b[0m\u001b[0;34m\u001b[0m\u001b[0;34m\u001b[0m\u001b[0m\n\u001b[1;32m      4\u001b[0m \u001b[0;31m# ds['y']=ds.lat\u001b[0m\u001b[0;34m\u001b[0m\u001b[0;34m\u001b[0m\u001b[0;34m\u001b[0m\u001b[0m\n\u001b[1;32m      5\u001b[0m \u001b[0mds\u001b[0m\u001b[0;34m\u001b[0m\u001b[0;34m\u001b[0m\u001b[0m\n",
      "\u001b[0;32m~/opt/anaconda3/lib/python3.8/site-packages/xarray/backends/api.py\u001b[0m in \u001b[0;36mopen_dataset\u001b[0;34m(filename_or_obj, engine, chunks, cache, decode_cf, mask_and_scale, decode_times, decode_timedelta, use_cftime, concat_characters, decode_coords, drop_variables, backend_kwargs, *args, **kwargs)\u001b[0m\n\u001b[1;32m    493\u001b[0m \u001b[0;34m\u001b[0m\u001b[0m\n\u001b[1;32m    494\u001b[0m     \u001b[0moverwrite_encoded_chunks\u001b[0m \u001b[0;34m=\u001b[0m \u001b[0mkwargs\u001b[0m\u001b[0;34m.\u001b[0m\u001b[0mpop\u001b[0m\u001b[0;34m(\u001b[0m\u001b[0;34m\"overwrite_encoded_chunks\"\u001b[0m\u001b[0;34m,\u001b[0m \u001b[0;32mNone\u001b[0m\u001b[0;34m)\u001b[0m\u001b[0;34m\u001b[0m\u001b[0;34m\u001b[0m\u001b[0m\n\u001b[0;32m--> 495\u001b[0;31m     backend_ds = backend.open_dataset(\n\u001b[0m\u001b[1;32m    496\u001b[0m         \u001b[0mfilename_or_obj\u001b[0m\u001b[0;34m,\u001b[0m\u001b[0;34m\u001b[0m\u001b[0;34m\u001b[0m\u001b[0m\n\u001b[1;32m    497\u001b[0m         \u001b[0mdrop_variables\u001b[0m\u001b[0;34m=\u001b[0m\u001b[0mdrop_variables\u001b[0m\u001b[0;34m,\u001b[0m\u001b[0;34m\u001b[0m\u001b[0;34m\u001b[0m\u001b[0m\n",
      "\u001b[0;32m~/COURSES/Research/data/remss data/backend_v2.py\u001b[0m in \u001b[0;36mopen_dataset\u001b[0;34m(self, filename_or_obj, resolution, timesteps, drop_variables, coords, attrs, dims)\u001b[0m\n\u001b[1;32m    193\u001b[0m \u001b[0;34m\u001b[0m\u001b[0m\n\u001b[1;32m    194\u001b[0m \u001b[0;34m\u001b[0m\u001b[0m\n\u001b[0;32m--> 195\u001b[0;31m             data_vars[fieldname]=xr.Variable(\n\u001b[0m\u001b[1;32m    196\u001b[0m                 \u001b[0mlabels\u001b[0m\u001b[0;34m,\u001b[0m\u001b[0;34m\u001b[0m\u001b[0;34m\u001b[0m\u001b[0m\n\u001b[1;32m    197\u001b[0m                 xr.core.indexing.LazilyIndexedArray(OpenVisusBackendArray(db=db, shape=shape,dtype=dtype,\n",
      "\u001b[0;32m~/opt/anaconda3/lib/python3.8/site-packages/xarray/core/variable.py\u001b[0m in \u001b[0;36m__init__\u001b[0;34m(self, dims, data, attrs, encoding, fastpath)\u001b[0m\n\u001b[1;32m    310\u001b[0m         \"\"\"\n\u001b[1;32m    311\u001b[0m         \u001b[0mself\u001b[0m\u001b[0;34m.\u001b[0m\u001b[0m_data\u001b[0m \u001b[0;34m=\u001b[0m \u001b[0mas_compatible_data\u001b[0m\u001b[0;34m(\u001b[0m\u001b[0mdata\u001b[0m\u001b[0;34m,\u001b[0m \u001b[0mfastpath\u001b[0m\u001b[0;34m=\u001b[0m\u001b[0mfastpath\u001b[0m\u001b[0;34m)\u001b[0m\u001b[0;34m\u001b[0m\u001b[0;34m\u001b[0m\u001b[0m\n\u001b[0;32m--> 312\u001b[0;31m         \u001b[0mself\u001b[0m\u001b[0;34m.\u001b[0m\u001b[0m_dims\u001b[0m \u001b[0;34m=\u001b[0m \u001b[0mself\u001b[0m\u001b[0;34m.\u001b[0m\u001b[0m_parse_dimensions\u001b[0m\u001b[0;34m(\u001b[0m\u001b[0mdims\u001b[0m\u001b[0;34m)\u001b[0m\u001b[0;34m\u001b[0m\u001b[0;34m\u001b[0m\u001b[0m\n\u001b[0m\u001b[1;32m    313\u001b[0m         \u001b[0mself\u001b[0m\u001b[0;34m.\u001b[0m\u001b[0m_attrs\u001b[0m \u001b[0;34m=\u001b[0m \u001b[0;32mNone\u001b[0m\u001b[0;34m\u001b[0m\u001b[0;34m\u001b[0m\u001b[0m\n\u001b[1;32m    314\u001b[0m         \u001b[0mself\u001b[0m\u001b[0;34m.\u001b[0m\u001b[0m_encoding\u001b[0m \u001b[0;34m=\u001b[0m \u001b[0;32mNone\u001b[0m\u001b[0;34m\u001b[0m\u001b[0;34m\u001b[0m\u001b[0m\n",
      "\u001b[0;32m~/opt/anaconda3/lib/python3.8/site-packages/xarray/core/variable.py\u001b[0m in \u001b[0;36m_parse_dimensions\u001b[0;34m(self, dims)\u001b[0m\n\u001b[1;32m    578\u001b[0m         \u001b[0mdims\u001b[0m \u001b[0;34m=\u001b[0m \u001b[0mtuple\u001b[0m\u001b[0;34m(\u001b[0m\u001b[0mdims\u001b[0m\u001b[0;34m)\u001b[0m\u001b[0;34m\u001b[0m\u001b[0;34m\u001b[0m\u001b[0m\n\u001b[1;32m    579\u001b[0m         \u001b[0;32mif\u001b[0m \u001b[0mlen\u001b[0m\u001b[0;34m(\u001b[0m\u001b[0mdims\u001b[0m\u001b[0;34m)\u001b[0m \u001b[0;34m!=\u001b[0m \u001b[0mself\u001b[0m\u001b[0;34m.\u001b[0m\u001b[0mndim\u001b[0m\u001b[0;34m:\u001b[0m\u001b[0;34m\u001b[0m\u001b[0;34m\u001b[0m\u001b[0m\n\u001b[0;32m--> 580\u001b[0;31m             raise ValueError(\n\u001b[0m\u001b[1;32m    581\u001b[0m                 \u001b[0;34mf\"dimensions {dims} must have the same length as the \"\u001b[0m\u001b[0;34m\u001b[0m\u001b[0;34m\u001b[0m\u001b[0m\n\u001b[1;32m    582\u001b[0m                 \u001b[0;34mf\"number of data dimensions, ndim={self.ndim}\"\u001b[0m\u001b[0;34m\u001b[0m\u001b[0;34m\u001b[0m\u001b[0m\n",
      "\u001b[0;31mValueError\u001b[0m: dimensions ('time', 'lat', 'lon', 'time', 'resolution') must have the same length as the number of data dimensions, ndim=4"
     ]
    }
   ],
   "source": [
    "ds = xr.open_dataset(\"dummy.idx\",engine=OpenVisusBackendEntrypoint,dims=ds.dims,coords=ds.coords )\n",
    "ds['analysed_sst']\n",
    "# ds['x']=ds.lon\n",
    "# ds['y']=ds.lat\n",
    "ds"
   ]
  },
  {
   "cell_type": "code",
   "execution_count": null,
   "id": "a0b0848f",
   "metadata": {},
   "outputs": [],
   "source": [
    "ds.coords"
   ]
  },
  {
   "cell_type": "code",
   "execution_count": null,
   "id": "261bd360",
   "metadata": {},
   "outputs": [],
   "source": [
    "d=ds.isel(time=0,y=slice(0,720),x=slice(0,1440))\n",
    "d.analysed_sst.attrs=ds.attrs"
   ]
  },
  {
   "cell_type": "code",
   "execution_count": null,
   "id": "e9e5a075",
   "metadata": {},
   "outputs": [],
   "source": [
    "d.analysed_sst['x']"
   ]
  },
  {
   "cell_type": "code",
   "execution_count": null,
   "id": "a3cf1027",
   "metadata": {},
   "outputs": [],
   "source": [
    "(d.analysed_sst-273.15).plot(cmap='cmo.thermal')"
   ]
  },
  {
   "cell_type": "code",
   "execution_count": null,
   "id": "5d6304de",
   "metadata": {},
   "outputs": [],
   "source": [
    "ds_sst = d.analysed_sst - 273.15\n",
    "ds_sst"
   ]
  },
  {
   "cell_type": "code",
   "execution_count": null,
   "id": "a8c1b271",
   "metadata": {},
   "outputs": [],
   "source": [
    "ds_sst.sel(x=slice(40,120),y=slice(-30,30)).plot(cmap='cmo.thermal')"
   ]
  },
  {
   "cell_type": "code",
   "execution_count": null,
   "id": "4b4ff341",
   "metadata": {},
   "outputs": [],
   "source": []
  }
 ],
 "metadata": {
  "kernelspec": {
   "display_name": "Python 3 (ipykernel)",
   "language": "python",
   "name": "python3"
  },
  "language_info": {
   "codemirror_mode": {
    "name": "ipython",
    "version": 3
   },
   "file_extension": ".py",
   "mimetype": "text/x-python",
   "name": "python",
   "nbconvert_exporter": "python",
   "pygments_lexer": "ipython3",
   "version": "3.8.12"
  }
 },
 "nbformat": 4,
 "nbformat_minor": 5
}
