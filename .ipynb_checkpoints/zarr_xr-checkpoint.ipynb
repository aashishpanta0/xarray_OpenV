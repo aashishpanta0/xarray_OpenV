{
 "cells": [
  {
   "cell_type": "code",
   "execution_count": 1,
   "metadata": {},
   "outputs": [],
   "source": [
    "import os\n",
    "import matplotlib.pyplot as plt\n",
    "import numpy\n",
    "import xarray as xr\n",
    "import intake\n",
    "\n",
    "import matplotlib.pyplot as plt\n"
   ]
  },
  {
   "cell_type": "code",
   "execution_count": 2,
   "metadata": {},
   "outputs": [],
   "source": [
    "image = intake.open_xarray_image('http://atlantis.sci.utah.edu/mod_visus?dataset=BlueMarble')"
   ]
  },
  {
   "cell_type": "code",
   "execution_count": 3,
   "metadata": {},
   "outputs": [
    {
     "data": {
      "application/yaml": "http://atlantis.sci.utah.edu/mod_visus?dataset=BlueMarble/*.y*ml:\n  args:\n    path: http://atlantis.sci.utah.edu/mod_visus?dataset=BlueMarble/*.y*ml\n  description: Catalog generated from all files found in http://atlantis.sci.utah.edu/mod_visus?dataset=BlueMarble/*.y*ml\n  driver: intake.catalog.local.YAMLFilesCatalog\n  metadata: {}\n",
      "text/plain": [
       "http://atlantis.sci.utah.edu/mod_visus?dataset=BlueMarble/*.y*ml:\n",
       "  args:\n",
       "    path: http://atlantis.sci.utah.edu/mod_visus?dataset=BlueMarble/*.y*ml\n",
       "  description: Catalog generated from all files found in http://atlantis.sci.utah.edu/mod_visus?dataset=BlueMarble/*.y*ml\n",
       "  driver: intake.catalog.local.YAMLFilesCatalog\n",
       "  metadata: {}\n"
      ]
     },
     "metadata": {
      "application/json": {
       "root": "http://atlantis.sci.utah.edu/mod_visus?dataset=BlueMarble/*.y*ml"
      }
     },
     "output_type": "display_data"
    }
   ],
   "source": [
    "data"
   ]
  },
  {
   "cell_type": "code",
   "execution_count": null,
   "metadata": {},
   "outputs": [],
   "source": []
  }
 ],
 "metadata": {
  "kernelspec": {
   "display_name": "Python 3.8.10 64-bit",
   "language": "python",
   "name": "python3810jvsc74a57bd031f2aee4e71d21fbe5cf8b01ff0e069b9275f58929596ceb00d14d90e3e16cd6"
  },
  "language_info": {
   "codemirror_mode": {
    "name": "ipython",
    "version": 3
   },
   "file_extension": ".py",
   "mimetype": "text/x-python",
   "name": "python",
   "nbconvert_exporter": "python",
   "pygments_lexer": "ipython3",
   "version": "3.8.10"
  }
 },
 "nbformat": 4,
 "nbformat_minor": 4
}
